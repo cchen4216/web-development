{
 "cells": [
  {
   "cell_type": "markdown",
   "metadata": {},
   "source": [
    "# SQLite 和 MySQL 的 python 操作\n",
    "\n",
    "SQLite 是一种嵌入式数据库，它的数据库是一个文件。使用 Python 操作 SQLite 数据库的基本流程如下：\n",
    "\n",
    "- 通过 `sqlite3.open()` 创建于数据路的连接对象 connectoin;\n",
    "- 通过 `connection.cursor()` 创建光标对象 cursor;\n",
    "- 通过 `cursor.execute()` 执行 SQL 语句；\n",
    "- 通过 `connection.commit()` 提交当前的事务，或者通过 `cursor.fetchall()` 获得查询结果；\n",
    "- 通过 `connection.close()` 关闭于数据库文件的连接。"
   ]
  },
  {
   "cell_type": "code",
   "execution_count": 2,
   "metadata": {},
   "outputs": [],
   "source": [
    "import sqlite3\n",
    "\n",
    "conn = sqlite3.connect(\"test.db\")\n",
    "c = conn.cursor()\n",
    "\n",
    "c.execute(\"CREATE TABLE IF NOT EXISTS students (sid INTEGER PRIMARY KEY, name TEXT)\")\n",
    "conn.commit()\n",
    "\n",
    "conn.close()"
   ]
  },
  {
   "cell_type": "markdown",
   "metadata": {},
   "source": [
    "这里在当前工作目录下创建了一个数据库文件 `test.db`，另外还可以使用`\":memory:\"` 建立内存数据库。\n",
    "\n",
    "> 内存数据库是一种将全部内容存放在内存中，而非传统数据库那样存放在外部存储器中的数据库。这种数据库的读写性能很高，主要用于在对性能要求极高的环境中，但是在服务器关闭后会立刻丢失全部存储的数据。"
   ]
  },
  {
   "cell_type": "code",
   "execution_count": 4,
   "metadata": {},
   "outputs": [
    {
     "name": "stdout",
     "output_type": "stream",
     "text": [
      "[(2, 'Bob'), (3, 'Mark')]\n"
     ]
    }
   ],
   "source": [
    "import sqlite3\n",
    "\n",
    "conn = sqlite3.connect(\":memory:\")\n",
    "c = conn.cursor()\n",
    "c.execute(\"CREATE TABLE students (sid INTEGER PRIMARY KEY, name TEXT)\")\n",
    "conn.commit()\n",
    "\n",
    "c.execute(\"INSERT INTO students VALUES(?, ?)\", (1, \"Alice\"))\n",
    "c.execute(\"INSERT INTO students VALUES(?, ?)\", (2, \"Bob\"))\n",
    "c.execute(\"INSERT INTO students VALUES(?, ?)\", (3, \"Peter\"))\n",
    "\n",
    "c.execute(\"DELETE FROM students WHERE sid = ?\", (1,))\n",
    "c.execute(\"UPDATE students SET name = ? WHERE sid = ?\", (\"Mark\", 3))\n",
    "\n",
    "conn.commit()\n",
    "\n",
    "c.execute(\"SELECT * FROM students\")\n",
    "print(c.fetchall())\n",
    "\n",
    "conn.close()"
   ]
  },
  {
   "cell_type": "markdown",
   "metadata": {},
   "source": [
    "`fetchall` 返回满足所有要求的 records 列表。\n",
    "\n",
    "#### 封装成 Python 函数"
   ]
  },
  {
   "cell_type": "code",
   "execution_count": 5,
   "metadata": {},
   "outputs": [
    {
     "name": "stdout",
     "output_type": "stream",
     "text": [
      "Insert 3 records.\n",
      "[(1, 'Alice'), (2, 'Bob'), (3, 'Peter')]\n",
      "Delete the record where sid = 1.\n",
      "[(2, 'Bob'), (3, 'Peter')]\n",
      "Update the record where sid = 3.\n",
      "[(2, 'Bob'), (3, 'Mark')]\n"
     ]
    }
   ],
   "source": [
    "import sqlite3\n",
    "import os, sys\n",
    "\n",
    "def initialize(conn):\n",
    "    c = conn.cursor()\n",
    "    c.execute(\"CREATE TABLE students (sid INTEGER PRIMARY KEY, name TEXT)\")\n",
    "    conn.commit()\n",
    "\n",
    "def insert(conn, sid, name):\n",
    "    c = conn.cursor()\n",
    "    t = (sid, name)\n",
    "    c.execute(\"INSERT INTO students VALUES (?, ?)\", t)\n",
    "    conn.commit()\n",
    "    \n",
    "def delete(conn, sid):\n",
    "    c = conn.cursor()\n",
    "    t = (sid, )\n",
    "    c.execute(\"DELETE FROM students WHERE sid = ?\", t)\n",
    "    conn.commit()\n",
    "    \n",
    "def update(conn, sid, name):\n",
    "    c = conn.cursor()\n",
    "    t = (name, sid)\n",
    "    c.execute(\"UPDATE students SET name = ? WHERE sid = ?\", t)\n",
    "    conn.commit()\n",
    "    \n",
    "def display(conn):\n",
    "    c = conn.cursor()\n",
    "    c.execute(\"SELECT * FROM students\");\n",
    "    print(c.fetchall())\n",
    "    \n",
    "db_name = \":memory:\"\n",
    "conn = sqlite3.connect(db_name)\n",
    "\n",
    "initialize(conn)\n",
    "\n",
    "print(\"Insert 3 records.\")\n",
    "insert(conn, 1, \"Alice\")\n",
    "insert(conn, 2, \"Bob\")\n",
    "insert(conn, 3, \"Peter\")\n",
    "display(conn)\n",
    "\n",
    "print(\"Delete the record where sid = 1.\")\n",
    "delete(conn, 1)\n",
    "display(conn)\n",
    "\n",
    "print(\"Update the record where sid = 3.\")\n",
    "update(conn, 3, \"Mark\")\n",
    "display(conn)\n",
    "\n",
    "conn.close()"
   ]
  },
  {
   "cell_type": "markdown",
   "metadata": {},
   "source": [
    "## MySQL\n",
    "\n",
    "MySQL 和 SQLite 都是关系型数据库，他们的操作方法也是大同小异的。首先建立连接对象与光标对象，用`execute()` 执行 SQL 语句，`commit()` 提交任务，`fetchall()` 获得查询结果。 \n",
    "\n",
    "MySQL 以及 mysql-connector-python 的安装\n",
    "在 Mac 上可以通过 brew 安装，或者下载 dmg 安装文件，还可以通过 XAMMPP 来进行安装。\n",
    "mysql-connector-python 通过 pip 安装出现了点问题。我下载了 source code 进行安装，很方便。\n",
    "上面这两个在 anaconda 上都可以进行安装。\n",
    "\n",
    "### MySQL server 启动\n",
    "我们需要先在本地运行起来 mysql server 然后才能够连接 server 进行一些操作。\n",
    "\n",
    "```\n",
    "mysqld start\n",
    "mysql.server start       #1. 启动\n",
    "mysql.server stop        #2. 停止\n",
    "mysql.server restart     #3. 重启\n",
    "```\n",
    "\n",
    "启动完成之后，还需要进行一些初始设置:\n",
    "\n",
    "```\n",
    "mysql_secure_installation\n",
    "\n",
    "Enter current password for root (enter for none):\n",
    "# 解释：输入当前 root 用户密码，默认为空，直接回车。\n",
    "\n",
    "Set root password? [Y/n]  y\n",
    "# 解释：要设置 root 密码吗？输入 y 表示愿意。\n",
    "\n",
    "Remove anonymous users? [Y/n]  y\n",
    "# 解释：要移除掉匿名用户吗？输入 y 表示愿意。\n",
    "\n",
    "Disallow root login remotely? [Y/n]  y\n",
    "# 解释：不想让 root 远程登陆吗？输入 y 表示愿意。\n",
    "\n",
    "Remove test database and access to it? [Y/n]  y\n",
    "# 解释：要去掉 test 数据库吗？输入 y 表示愿意。\n",
    "\n",
    "Reload privilege tables now? [Y/n]  y\n",
    "# 解释：想要重新加载权限吗？输入 y 表示愿意。\n",
    "```\n",
    "\n",
    "设置了用户名密码之后我们就可以登陆 mysql server, `mysql -u root -p logitech`, 然后你就可创建第一个 database employees, `CREATE DATABASE employees`; 然后进入数据库 `USE employees`。\n",
    "\n",
    "接着你就可以创建 tables 等等。不过这部分我们将在 python 中完成。\n",
    "\n",
    "最后你想要推出 mysql 环境使用命令 `exit;`"
   ]
  },
  {
   "cell_type": "code",
   "execution_count": 13,
   "metadata": {},
   "outputs": [],
   "source": [
    "from __future__ import print_function\n",
    "\n",
    "from decimal import Decimal\n",
    "from datetime import datetime, date, timedelta\n",
    "\n",
    "import mysql.connector\n",
    "\n",
    "# Connect with the MySQL Server\n",
    "cnx = mysql.connector.connect(user='root', password=\"logitech\", database='employees')\n",
    "\n",
    "# # Get two buffered cursors\n",
    "# curA = cnx.cursor(buffered=True)\n",
    "# curB = cnx.cursor(buffered=True)\n",
    "\n",
    "# # Query to get employees who joined in a period defined by two dates\n",
    "# query = (\n",
    "#   \"SELECT s.emp_no, salary, from_date, to_date FROM employees AS e \"\n",
    "#   \"LEFT JOIN salaries AS s USING (emp_no) \"\n",
    "#   \"WHERE to_date = DATE('9999-01-01')\"\n",
    "#   \"AND e.hire_date BETWEEN DATE(%s) AND DATE(%s)\")\n",
    "\n",
    "# # UPDATE and INSERT statements for the old and new salary\n",
    "# update_old_salary = (\n",
    "#   \"UPDATE salaries SET to_date = %s \"\n",
    "#   \"WHERE emp_no = %s AND from_date = %s\")\n",
    "# insert_new_salary = (\n",
    "#   \"INSERT INTO salaries (emp_no, from_date, to_date, salary) \"\n",
    "#   \"VALUES (%s, %s, %s, %s)\")\n",
    "\n",
    "# # Select the employees getting a raise\n",
    "# curA.execute(query, (date(2000, 1, 1), date(2000, 12, 31)))\n",
    "\n",
    "# # Iterate through the result of curA\n",
    "# for (emp_no, salary, from_date, to_date) in curA:\n",
    "\n",
    "#   # Update the old and insert the new salary\n",
    "#   new_salary = int(round(salary * Decimal('1.15')))\n",
    "#   curB.execute(update_old_salary, (tomorrow, emp_no, from_date))\n",
    "#   curB.execute(insert_new_salary,\n",
    "#                (emp_no, tomorrow, date(9999, 1, 1,), new_salary))\n",
    "\n",
    "#   # Commit the changes\n",
    "#   cnx.commit()\n",
    "\n",
    "cnx.close()"
   ]
  },
  {
   "cell_type": "code",
   "execution_count": null,
   "metadata": {},
   "outputs": [],
   "source": []
  }
 ],
 "metadata": {
  "kernelspec": {
   "display_name": "Python 3",
   "language": "python",
   "name": "python3"
  },
  "language_info": {
   "codemirror_mode": {
    "name": "ipython",
    "version": 3
   },
   "file_extension": ".py",
   "mimetype": "text/x-python",
   "name": "python",
   "nbconvert_exporter": "python",
   "pygments_lexer": "ipython3",
   "version": "3.6.4"
  }
 },
 "nbformat": 4,
 "nbformat_minor": 2
}
