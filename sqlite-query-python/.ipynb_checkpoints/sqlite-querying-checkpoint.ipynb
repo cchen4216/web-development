{
 "cells": [
  {
   "cell_type": "markdown",
   "metadata": {},
   "source": [
    "SQLite 是一种嵌入式数据库，它的数据库是一个文件。使用 Python 操作 SQLite 数据库的基本流程如下：\n",
    "\n",
    "- 通过 `sqlite3.open()` 创建于数据路的连接对象 connectoin;\n",
    "- 通过 `connection.cursor()` 创建光标对象 cursor;\n",
    "- 通过 `cursor.execute()` 执行 SQL 语句；\n",
    "- 通过 `connection.commit()` 提交当前的事务，或者通过 `cursor.fetchall()` 获得查询结果；\n",
    "- 通过 `connection.close()` 关闭于数据库文件的连接。"
   ]
  },
  {
   "cell_type": "code",
   "execution_count": 2,
   "metadata": {},
   "outputs": [],
   "source": [
    "import sqlite3\n",
    "\n",
    "conn = sqlite3.connect(\"test.db\")\n",
    "c = conn.cursor()\n",
    "\n",
    "c.execute(\"CREATE TABLE IF NOT EXISTS students (sid INTEGER PRIMARY KEY, name TEXT)\")\n",
    "conn.commit()\n",
    "\n",
    "conn.close()"
   ]
  },
  {
   "cell_type": "markdown",
   "metadata": {},
   "source": [
    "这里在当前工作目录下创建了一个数据库文件 `test.db`，另外还可以使用`\":memory:\"` 建立内存数据库。"
   ]
  }
 ],
 "metadata": {
  "kernelspec": {
   "display_name": "Python 3",
   "language": "python",
   "name": "python3"
  },
  "language_info": {
   "codemirror_mode": {
    "name": "ipython",
    "version": 3
   },
   "file_extension": ".py",
   "mimetype": "text/x-python",
   "name": "python",
   "nbconvert_exporter": "python",
   "pygments_lexer": "ipython3",
   "version": "3.6.4"
  }
 },
 "nbformat": 4,
 "nbformat_minor": 2
}
