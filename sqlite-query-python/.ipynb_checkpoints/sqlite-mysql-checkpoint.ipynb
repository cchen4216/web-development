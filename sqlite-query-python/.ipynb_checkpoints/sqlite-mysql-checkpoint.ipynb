{
 "cells": [
  {
   "cell_type": "markdown",
   "metadata": {},
   "source": [
    "# SQLite 和 MySQL 的 python 操作\n",
    "\n",
    "SQLite 是一种嵌入式数据库，它的数据库是一个文件。使用 Python 操作 SQLite 数据库的基本流程如下：\n",
    "\n",
    "- 通过 `sqlite3.open()` 创建于数据路的连接对象 connectoin;\n",
    "- 通过 `connection.cursor()` 创建光标对象 cursor;\n",
    "- 通过 `cursor.execute()` 执行 SQL 语句；\n",
    "- 通过 `connection.commit()` 提交当前的事务，或者通过 `cursor.fetchall()` 获得查询结果；\n",
    "- 通过 `connection.close()` 关闭于数据库文件的连接。"
   ]
  },
  {
   "cell_type": "code",
   "execution_count": 2,
   "metadata": {},
   "outputs": [],
   "source": [
    "import sqlite3\n",
    "\n",
    "conn = sqlite3.connect(\"test.db\")\n",
    "c = conn.cursor()\n",
    "\n",
    "c.execute(\"CREATE TABLE IF NOT EXISTS students (sid INTEGER PRIMARY KEY, name TEXT)\")\n",
    "conn.commit()\n",
    "\n",
    "conn.close()"
   ]
  },
  {
   "cell_type": "markdown",
   "metadata": {},
   "source": [
    "这里在当前工作目录下创建了一个数据库文件 `test.db`，另外还可以使用`\":memory:\"` 建立内存数据库。\n",
    "\n",
    "> 内存数据库是一种将全部内容存放在内存中，而非传统数据库那样存放在外部存储器中的数据库。这种数据库的读写性能很高，主要用于在对性能要求极高的环境中，但是在服务器关闭后会立刻丢失全部存储的数据。"
   ]
  },
  {
   "cell_type": "code",
   "execution_count": 4,
   "metadata": {},
   "outputs": [
    {
     "name": "stdout",
     "output_type": "stream",
     "text": [
      "[(2, 'Bob'), (3, 'Mark')]\n"
     ]
    }
   ],
   "source": [
    "import sqlite3\n",
    "\n",
    "conn = sqlite3.connect(\":memory:\")\n",
    "c = conn.cursor()\n",
    "c.execute(\"CREATE TABLE students (sid INTEGER PRIMARY KEY, name TEXT)\")\n",
    "conn.commit()\n",
    "\n",
    "c.execute(\"INSERT INTO students VALUES(?, ?)\", (1, \"Alice\"))\n",
    "c.execute(\"INSERT INTO students VALUES(?, ?)\", (2, \"Bob\"))\n",
    "c.execute(\"INSERT INTO students VALUES(?, ?)\", (3, \"Peter\"))\n",
    "\n",
    "c.execute(\"DELETE FROM students WHERE sid = ?\", (1,))\n",
    "c.execute(\"UPDATE students SET name = ? WHERE sid = ?\", (\"Mark\", 3))\n",
    "\n",
    "conn.commit()\n",
    "\n",
    "c.execute(\"SELECT * FROM students\")\n",
    "print(c.fetchall())\n",
    "\n",
    "conn.close()"
   ]
  },
  {
   "cell_type": "markdown",
   "metadata": {},
   "source": [
    "`fetchall` 返回满足所有要求的 records 列表。\n",
    "\n",
    "#### 封装成 Python 函数"
   ]
  },
  {
   "cell_type": "code",
   "execution_count": 5,
   "metadata": {},
   "outputs": [
    {
     "name": "stdout",
     "output_type": "stream",
     "text": [
      "Insert 3 records.\n",
      "[(1, 'Alice'), (2, 'Bob'), (3, 'Peter')]\n",
      "Delete the record where sid = 1.\n",
      "[(2, 'Bob'), (3, 'Peter')]\n",
      "Update the record where sid = 3.\n",
      "[(2, 'Bob'), (3, 'Mark')]\n"
     ]
    }
   ],
   "source": [
    "import sqlite3\n",
    "import os, sys\n",
    "\n",
    "def initialize(conn):\n",
    "    c = conn.cursor()\n",
    "    c.execute(\"CREATE TABLE students (sid INTEGER PRIMARY KEY, name TEXT)\")\n",
    "    conn.commit()\n",
    "\n",
    "def insert(conn, sid, name):\n",
    "    c = conn.cursor()\n",
    "    t = (sid, name)\n",
    "    c.execute(\"INSERT INTO students VALUES (?, ?)\", t)\n",
    "    conn.commit()\n",
    "    \n",
    "def delete(conn, sid):\n",
    "    c = conn.cursor()\n",
    "    t = (sid, )\n",
    "    c.execute(\"DELETE FROM students WHERE sid = ?\", t)\n",
    "    conn.commit()\n",
    "    \n",
    "def update(conn, sid, name):\n",
    "    c = conn.cursor()\n",
    "    t = (name, sid)\n",
    "    c.execute(\"UPDATE students SET name = ? WHERE sid = ?\", t)\n",
    "    conn.commit()\n",
    "    \n",
    "def display(conn):\n",
    "    c = conn.cursor()\n",
    "    c.execute(\"SELECT * FROM students\");\n",
    "    print(c.fetchall())\n",
    "    \n",
    "db_name = \":memory:\"\n",
    "conn = sqlite3.connect(db_name)\n",
    "\n",
    "initialize(conn)\n",
    "\n",
    "print(\"Insert 3 records.\")\n",
    "insert(conn, 1, \"Alice\")\n",
    "insert(conn, 2, \"Bob\")\n",
    "insert(conn, 3, \"Peter\")\n",
    "display(conn)\n",
    "\n",
    "print(\"Delete the record where sid = 1.\")\n",
    "delete(conn, 1)\n",
    "display(conn)\n",
    "\n",
    "print(\"Update the record where sid = 3.\")\n",
    "update(conn, 3, \"Mark\")\n",
    "display(conn)\n",
    "\n",
    "conn.close()"
   ]
  },
  {
   "cell_type": "markdown",
   "metadata": {},
   "source": [
    "## MySQL\n",
    "\n",
    "MySQL 和 SQLite 都是关系型数据库，他们的操作方法也是大同小异的。首先建立连接对象与光标对象，用`execute()` 执行 SQL 语句，`commit()` 提交任务，`fetchall()` 获得查询结果。 \n",
    "\n",
    "MySQL 以及 mysql-connector-python 的安装\n",
    "在 Mac 上可以通过 brew 安装，或者下载 dmg 安装文件，还可以通过 XAMMPP 来进行安装。\n",
    "mysql-connector-python 通过 pip 安装出现了点问题。我下载了 source code 进行安装，很方便。\n",
    "上面这两个在 anaconda 上都可以进行安装。\n",
    "\n",
    "### MySQL server 启动\n",
    "我们需要先在本地运行起来 mysql server 然后才能够连接 server 进行一些操作。\n",
    "\n",
    "```\n",
    "mysqld start\n",
    "mysql.server start       #1. 启动\n",
    "mysql.server stop        #2. 停止\n",
    "mysql.server restart     #3. 重启\n",
    "```\n",
    "\n",
    "启动完成之后，还需要进行一些初始设置:\n",
    "\n",
    "```\n",
    "mysql_secure_installation\n",
    "\n",
    "Enter current password for root (enter for none):\n",
    "# 解释：输入当前 root 用户密码，默认为空，直接回车。\n",
    "\n",
    "Set root password? [Y/n]  y\n",
    "# 解释：要设置 root 密码吗？输入 y 表示愿意。\n",
    "\n",
    "Remove anonymous users? [Y/n]  y\n",
    "# 解释：要移除掉匿名用户吗？输入 y 表示愿意。\n",
    "\n",
    "Disallow root login remotely? [Y/n]  y\n",
    "# 解释：不想让 root 远程登陆吗？输入 y 表示愿意。\n",
    "\n",
    "Remove test database and access to it? [Y/n]  y\n",
    "# 解释：要去掉 test 数据库吗？输入 y 表示愿意。\n",
    "\n",
    "Reload privilege tables now? [Y/n]  y\n",
    "# 解释：想要重新加载权限吗？输入 y 表示愿意。\n",
    "```\n",
    "\n",
    "设置了用户名密码之后我们就可以登陆 mysql server, `mysql -u root -p logitech`, 然后你就可创建第一个 database employees, `CREATE DATABASE employees`; 然后进入数据库 `USE employees`。\n",
    "\n",
    "接着你就可以创建 tables 等等。不过这部分我们将在 python 中完成。\n",
    "\n",
    "最后你想要推出 mysql 环境使用命令 `exit;`\n",
    "\n",
    "### Python 脚本连接数据库\n",
    "首先运行 `mysql.server start`,  然后使用如下 Python 脚本连接 mysql server。"
   ]
  },
  {
   "cell_type": "code",
   "execution_count": 1,
   "metadata": {},
   "outputs": [],
   "source": [
    "import mysql.connector\n",
    "\n",
    "# Connect with the MySQL Server\n",
    "config = {\n",
    "    'user': 'root',\n",
    "    'password': 'logitech',\n",
    "    'host': 'localhost',\n",
    "    'database': 'employees',\n",
    "    'raise_on_warnings': True,\n",
    "}\n",
    "\n",
    "cnx = mysql.connector.connect(**config)\n",
    "\n",
    "cnx.close()"
   ]
  },
  {
   "cell_type": "markdown",
   "metadata": {},
   "source": [
    "上面的代码直接连接到一个 database `employees`，另外你也可以先连接 MySQL server, 然后选择某一个 database，如果这个 database 不存在，就按名字创建。"
   ]
  },
  {
   "cell_type": "code",
   "execution_count": 5,
   "metadata": {},
   "outputs": [],
   "source": [
    "import mysql.connector\n",
    "from mysql.connector import errorcode\n",
    "\n",
    "DB_NAME = 'employees'\n",
    "\n",
    "cnx = mysql.connector.connect(user='root', password='logitech')\n",
    "cursor = cnx.cursor()\n",
    "\n",
    "def create_database(cursor):\n",
    "    try:\n",
    "        cursor.execute(\n",
    "        'CREATE DATABASE {} DEFAULT CHARACTER SET \"utf8\"'.format(DB_NAME))\n",
    "    except mysql.connector.Error as err:\n",
    "        print(\"Failed creating database: {}\".format(err))\n",
    "        exit(1)\n",
    "        \n",
    "try:\n",
    "    cnx.database = DB_NAME\n",
    "except mysql.connector.Error as err:\n",
    "    if err.errno == errorcode.ER_BAD_DB_ERROR:\n",
    "        create_database(cursor)\n",
    "        cnx.database = DB_NAME\n",
    "    else:\n",
    "        print(err)\n",
    "        exit(1)\n",
    "\n",
    "# cursor.close()\n",
    "# cnx.close()"
   ]
  },
  {
   "cell_type": "markdown",
   "metadata": {},
   "source": [
    "上面的代码连接到了 employees 数据库，接下来我们就可以创建具体的数据表格了。"
   ]
  },
  {
   "cell_type": "code",
   "execution_count": 7,
   "metadata": {},
   "outputs": [
    {
     "name": "stdout",
     "output_type": "stream",
     "text": [
      "Creating table employees: OK\n",
      "Creating table departments: OK\n",
      "Creating table salaries: OK\n",
      "Creating table dept_emp: OK\n",
      "Creating table dept_manager: OK\n",
      "Creating table titles: OK\n"
     ]
    }
   ],
   "source": [
    "TABLES = {}\n",
    "TABLES['employees'] = (\n",
    "    \"CREATE TABLE `employees` (\"\n",
    "    \"  `emp_no` int(11) NOT NULL AUTO_INCREMENT,\"\n",
    "    \"  `birth_date` date NOT NULL,\"\n",
    "    \"  `first_name` varchar(14) NOT NULL,\"\n",
    "    \"  `last_name` varchar(16) NOT NULL,\"\n",
    "    \"  `gender` enum('M','F') NOT NULL,\"\n",
    "    \"  `hire_date` date NOT NULL,\"\n",
    "    \"  PRIMARY KEY (`emp_no`)\"\n",
    "    \") ENGINE=InnoDB\")\n",
    "\n",
    "TABLES['departments'] = (\n",
    "    \"CREATE TABLE `departments` (\"\n",
    "    \"  `dept_no` char(4) NOT NULL,\"\n",
    "    \"  `dept_name` varchar(40) NOT NULL,\"\n",
    "    \"  PRIMARY KEY (`dept_no`), UNIQUE KEY `dept_name` (`dept_name`)\"\n",
    "    \") ENGINE=InnoDB\")\n",
    "\n",
    "TABLES['salaries'] = (\n",
    "    \"CREATE TABLE `salaries` (\"\n",
    "    \"  `emp_no` int(11) NOT NULL,\"\n",
    "    \"  `salary` int(11) NOT NULL,\"\n",
    "    \"  `from_date` date NOT NULL,\"\n",
    "    \"  `to_date` date NOT NULL,\"\n",
    "    \"  PRIMARY KEY (`emp_no`,`from_date`), KEY `emp_no` (`emp_no`),\"\n",
    "    \"  CONSTRAINT `salaries_ibfk_1` FOREIGN KEY (`emp_no`) \"\n",
    "    \"     REFERENCES `employees` (`emp_no`) ON DELETE CASCADE\"\n",
    "    \") ENGINE=InnoDB\")\n",
    "\n",
    "TABLES['dept_emp'] = (\n",
    "    \"CREATE TABLE `dept_emp` (\"\n",
    "    \"  `emp_no` int(11) NOT NULL,\"\n",
    "    \"  `dept_no` char(4) NOT NULL,\"\n",
    "    \"  `from_date` date NOT NULL,\"\n",
    "    \"  `to_date` date NOT NULL,\"\n",
    "    \"  PRIMARY KEY (`emp_no`,`dept_no`), KEY `emp_no` (`emp_no`),\"\n",
    "    \"  KEY `dept_no` (`dept_no`),\"\n",
    "    \"  CONSTRAINT `dept_emp_ibfk_1` FOREIGN KEY (`emp_no`) \"\n",
    "    \"     REFERENCES `employees` (`emp_no`) ON DELETE CASCADE,\"\n",
    "    \"  CONSTRAINT `dept_emp_ibfk_2` FOREIGN KEY (`dept_no`) \"\n",
    "    \"     REFERENCES `departments` (`dept_no`) ON DELETE CASCADE\"\n",
    "    \") ENGINE=InnoDB\")\n",
    "\n",
    "TABLES['dept_manager'] = (\n",
    "    \"  CREATE TABLE `dept_manager` (\"\n",
    "    \"  `dept_no` char(4) NOT NULL,\"\n",
    "    \"  `emp_no` int(11) NOT NULL,\"\n",
    "    \"  `from_date` date NOT NULL,\"\n",
    "    \"  `to_date` date NOT NULL,\"\n",
    "    \"  PRIMARY KEY (`emp_no`,`dept_no`),\"\n",
    "    \"  KEY `emp_no` (`emp_no`),\"\n",
    "    \"  KEY `dept_no` (`dept_no`),\"\n",
    "    \"  CONSTRAINT `dept_manager_ibfk_1` FOREIGN KEY (`emp_no`) \"\n",
    "    \"     REFERENCES `employees` (`emp_no`) ON DELETE CASCADE,\"\n",
    "    \"  CONSTRAINT `dept_manager_ibfk_2` FOREIGN KEY (`dept_no`) \"\n",
    "    \"     REFERENCES `departments` (`dept_no`) ON DELETE CASCADE\"\n",
    "    \") ENGINE=InnoDB\")\n",
    "\n",
    "TABLES['titles'] = (\n",
    "    \"CREATE TABLE `titles` (\"\n",
    "    \"  `emp_no` int(11) NOT NULL,\"\n",
    "    \"  `title` varchar(50) NOT NULL,\"\n",
    "    \"  `from_date` date NOT NULL,\"\n",
    "    \"  `to_date` date DEFAULT NULL,\"\n",
    "    \"  PRIMARY KEY (`emp_no`,`title`,`from_date`), KEY `emp_no` (`emp_no`),\"\n",
    "    \"  CONSTRAINT `titles_ibfk_1` FOREIGN KEY (`emp_no`)\"\n",
    "    \"     REFERENCES `employees` (`emp_no`) ON DELETE CASCADE\"\n",
    "    \") ENGINE=InnoDB\")\n",
    "\n",
    "for name, ddl in TABLES.items():\n",
    "    try:\n",
    "        print(\"Creating table {}: \".format(name), end=\"\")\n",
    "        cursor.execute(ddl)\n",
    "    except mysql.connector.Error as err:\n",
    "        if err.errno == errorcode.ER_TABLE_EXISTS_ERROR:\n",
    "            print(\"already exists.\")\n",
    "        else:\n",
    "            print(err.msg)\n",
    "    else:\n",
    "        print(\"OK\")\n",
    "\n",
    "cursor.close()\n",
    "cnx.close()"
   ]
  },
  {
   "cell_type": "markdown",
   "metadata": {},
   "source": [
    "这里做为练习，我先直接向每个表格中导入一些数据，然后在进行操作。\n",
    "\n",
    "首先从这个 [repository](https://github.com/datacharmer/test_db) 下载数据文件，下载完成后，进入文件夹，执行命令 `mysql < employees.sql -uuser -ppassword`。或者你也可以将 dump 文件一个一个地导入。\n",
    "\n",
    "- `mysql employees < load_empolyees.dump`\n",
    "- `mysqp empolyees < load_titles.dump`\n",
    "- `mysql < load_departments.dump`\n",
    "- ...\n"
   ]
  },
  {
   "cell_type": "markdown",
   "metadata": {},
   "source": [
    "### 使用connector/python 查询数据"
   ]
  },
  {
   "cell_type": "code",
   "execution_count": 9,
   "metadata": {},
   "outputs": [
    {
     "ename": "ProgrammingError",
     "evalue": "1064 (42000): You have an error in your SQL syntax; check the manual that corresponds to your MySQL server version for the right syntax to use near 'BETWEEN '1999-01-01' AND '1999-12-31'' at line 1",
     "output_type": "error",
     "traceback": [
      "\u001b[0;31m---------------------------------------------------------------------------\u001b[0m",
      "\u001b[0;31mProgrammingError\u001b[0m                          Traceback (most recent call last)",
      "\u001b[0;32m<ipython-input-9-cb211efa8b8a>\u001b[0m in \u001b[0;36m<module>\u001b[0;34m()\u001b[0m\n\u001b[1;32m     11\u001b[0m \u001b[0mhire_end\u001b[0m \u001b[0;34m=\u001b[0m \u001b[0mdatetime\u001b[0m\u001b[0;34m.\u001b[0m\u001b[0mdate\u001b[0m\u001b[0;34m(\u001b[0m\u001b[0;36m1999\u001b[0m\u001b[0;34m,\u001b[0m \u001b[0;36m12\u001b[0m\u001b[0;34m,\u001b[0m \u001b[0;36m31\u001b[0m\u001b[0;34m)\u001b[0m\u001b[0;34m\u001b[0m\u001b[0m\n\u001b[1;32m     12\u001b[0m \u001b[0;34m\u001b[0m\u001b[0m\n\u001b[0;32m---> 13\u001b[0;31m \u001b[0mcursor\u001b[0m\u001b[0;34m.\u001b[0m\u001b[0mexecute\u001b[0m\u001b[0;34m(\u001b[0m\u001b[0mquery\u001b[0m\u001b[0;34m,\u001b[0m \u001b[0;34m(\u001b[0m\u001b[0mhire_start\u001b[0m\u001b[0;34m,\u001b[0m \u001b[0mhire_end\u001b[0m\u001b[0;34m)\u001b[0m\u001b[0;34m)\u001b[0m\u001b[0;34m\u001b[0m\u001b[0m\n\u001b[0m\u001b[1;32m     14\u001b[0m \u001b[0;34m\u001b[0m\u001b[0m\n\u001b[1;32m     15\u001b[0m \u001b[0;32mfor\u001b[0m \u001b[0;34m(\u001b[0m\u001b[0mfirst_name\u001b[0m\u001b[0;34m,\u001b[0m \u001b[0mlast_name\u001b[0m\u001b[0;34m,\u001b[0m \u001b[0mhire_date\u001b[0m\u001b[0;34m)\u001b[0m \u001b[0;32min\u001b[0m \u001b[0mcursor\u001b[0m\u001b[0;34m:\u001b[0m\u001b[0;34m\u001b[0m\u001b[0m\n",
      "\u001b[0;32m~/anaconda3/lib/python3.6/site-packages/mysql/connector/cursor.py\u001b[0m in \u001b[0;36mexecute\u001b[0;34m(self, operation, params, multi)\u001b[0m\n\u001b[1;32m    505\u001b[0m             \u001b[0mself\u001b[0m\u001b[0;34m.\u001b[0m\u001b[0m_executed\u001b[0m \u001b[0;34m=\u001b[0m \u001b[0mstmt\u001b[0m\u001b[0;34m\u001b[0m\u001b[0m\n\u001b[1;32m    506\u001b[0m             \u001b[0;32mtry\u001b[0m\u001b[0;34m:\u001b[0m\u001b[0;34m\u001b[0m\u001b[0m\n\u001b[0;32m--> 507\u001b[0;31m                 \u001b[0mself\u001b[0m\u001b[0;34m.\u001b[0m\u001b[0m_handle_result\u001b[0m\u001b[0;34m(\u001b[0m\u001b[0mself\u001b[0m\u001b[0;34m.\u001b[0m\u001b[0m_connection\u001b[0m\u001b[0;34m.\u001b[0m\u001b[0mcmd_query\u001b[0m\u001b[0;34m(\u001b[0m\u001b[0mstmt\u001b[0m\u001b[0;34m)\u001b[0m\u001b[0;34m)\u001b[0m\u001b[0;34m\u001b[0m\u001b[0m\n\u001b[0m\u001b[1;32m    508\u001b[0m             \u001b[0;32mexcept\u001b[0m \u001b[0merrors\u001b[0m\u001b[0;34m.\u001b[0m\u001b[0mInterfaceError\u001b[0m\u001b[0;34m:\u001b[0m\u001b[0;34m\u001b[0m\u001b[0m\n\u001b[1;32m    509\u001b[0m                 \u001b[0;32mif\u001b[0m \u001b[0mself\u001b[0m\u001b[0;34m.\u001b[0m\u001b[0m_connection\u001b[0m\u001b[0;34m.\u001b[0m\u001b[0m_have_next_result\u001b[0m\u001b[0;34m:\u001b[0m  \u001b[0;31m# pylint: disable=W0212\u001b[0m\u001b[0;34m\u001b[0m\u001b[0m\n",
      "\u001b[0;32m~/anaconda3/lib/python3.6/site-packages/mysql/connector/connection.py\u001b[0m in \u001b[0;36mcmd_query\u001b[0;34m(self, query)\u001b[0m\n\u001b[1;32m    720\u001b[0m         \u001b[0;32mif\u001b[0m \u001b[0;32mnot\u001b[0m \u001b[0misinstance\u001b[0m\u001b[0;34m(\u001b[0m\u001b[0mquery\u001b[0m\u001b[0;34m,\u001b[0m \u001b[0mbytes\u001b[0m\u001b[0;34m)\u001b[0m\u001b[0;34m:\u001b[0m\u001b[0;34m\u001b[0m\u001b[0m\n\u001b[1;32m    721\u001b[0m             \u001b[0mquery\u001b[0m \u001b[0;34m=\u001b[0m \u001b[0mquery\u001b[0m\u001b[0;34m.\u001b[0m\u001b[0mencode\u001b[0m\u001b[0;34m(\u001b[0m\u001b[0;34m'utf-8'\u001b[0m\u001b[0;34m)\u001b[0m\u001b[0;34m\u001b[0m\u001b[0m\n\u001b[0;32m--> 722\u001b[0;31m         \u001b[0mresult\u001b[0m \u001b[0;34m=\u001b[0m \u001b[0mself\u001b[0m\u001b[0;34m.\u001b[0m\u001b[0m_handle_result\u001b[0m\u001b[0;34m(\u001b[0m\u001b[0mself\u001b[0m\u001b[0;34m.\u001b[0m\u001b[0m_send_cmd\u001b[0m\u001b[0;34m(\u001b[0m\u001b[0mServerCmd\u001b[0m\u001b[0;34m.\u001b[0m\u001b[0mQUERY\u001b[0m\u001b[0;34m,\u001b[0m \u001b[0mquery\u001b[0m\u001b[0;34m)\u001b[0m\u001b[0;34m)\u001b[0m\u001b[0;34m\u001b[0m\u001b[0m\n\u001b[0m\u001b[1;32m    723\u001b[0m \u001b[0;34m\u001b[0m\u001b[0m\n\u001b[1;32m    724\u001b[0m         \u001b[0;32mif\u001b[0m \u001b[0mself\u001b[0m\u001b[0;34m.\u001b[0m\u001b[0m_have_next_result\u001b[0m\u001b[0;34m:\u001b[0m\u001b[0;34m\u001b[0m\u001b[0m\n",
      "\u001b[0;32m~/anaconda3/lib/python3.6/site-packages/mysql/connector/connection.py\u001b[0m in \u001b[0;36m_handle_result\u001b[0;34m(self, packet)\u001b[0m\n\u001b[1;32m    638\u001b[0m             \u001b[0;32mreturn\u001b[0m \u001b[0mself\u001b[0m\u001b[0;34m.\u001b[0m\u001b[0m_handle_eof\u001b[0m\u001b[0;34m(\u001b[0m\u001b[0mpacket\u001b[0m\u001b[0;34m)\u001b[0m\u001b[0;34m\u001b[0m\u001b[0m\n\u001b[1;32m    639\u001b[0m         \u001b[0;32melif\u001b[0m \u001b[0mpacket\u001b[0m\u001b[0;34m[\u001b[0m\u001b[0;36m4\u001b[0m\u001b[0;34m]\u001b[0m \u001b[0;34m==\u001b[0m \u001b[0;36m255\u001b[0m\u001b[0;34m:\u001b[0m\u001b[0;34m\u001b[0m\u001b[0m\n\u001b[0;32m--> 640\u001b[0;31m             \u001b[0;32mraise\u001b[0m \u001b[0merrors\u001b[0m\u001b[0;34m.\u001b[0m\u001b[0mget_exception\u001b[0m\u001b[0;34m(\u001b[0m\u001b[0mpacket\u001b[0m\u001b[0;34m)\u001b[0m\u001b[0;34m\u001b[0m\u001b[0m\n\u001b[0m\u001b[1;32m    641\u001b[0m \u001b[0;34m\u001b[0m\u001b[0m\n\u001b[1;32m    642\u001b[0m         \u001b[0;31m# We have a text result set\u001b[0m\u001b[0;34m\u001b[0m\u001b[0;34m\u001b[0m\u001b[0m\n",
      "\u001b[0;31mProgrammingError\u001b[0m: 1064 (42000): You have an error in your SQL syntax; check the manual that corresponds to your MySQL server version for the right syntax to use near 'BETWEEN '1999-01-01' AND '1999-12-31'' at line 1"
     ]
    }
   ],
   "source": [
    "import datetime\n",
    "import mysql.connector\n",
    "\n",
    "cnx = mysql.connector.connect(user='root', database='employees', password='logitech')\n",
    "cursor = cnx.cursor()\n",
    "\n",
    "query = (\"SELECT first_name, last_name, hire_date FROM employees \"\n",
    "     \"WHERE hire_date BETWEEN %s AND %s\")\n",
    "\n",
    "hire_start = datetime.date(1999, 1, 1)\n",
    "hire_end = datetime.date(1999, 12, 31)\n",
    "\n",
    "cursor.execute(query, (hire_start, hire_end))\n",
    "\n",
    "for (first_name, last_name, hire_date) in cursor:\n",
    "    print(\"{}, {} was hired on {:%d %b %Y}\".format(last_name, first_name, hire-date))\n",
    "    \n",
    "cursor.close()\n",
    "cnx.close()"
   ]
  },
  {
   "cell_type": "code",
   "execution_count": null,
   "metadata": {},
   "outputs": [],
   "source": []
  }
 ],
 "metadata": {
  "kernelspec": {
   "display_name": "Python 3",
   "language": "python",
   "name": "python3"
  },
  "language_info": {
   "codemirror_mode": {
    "name": "ipython",
    "version": 3
   },
   "file_extension": ".py",
   "mimetype": "text/x-python",
   "name": "python",
   "nbconvert_exporter": "python",
   "pygments_lexer": "ipython3",
   "version": "3.6.4"
  }
 },
 "nbformat": 4,
 "nbformat_minor": 2
}
