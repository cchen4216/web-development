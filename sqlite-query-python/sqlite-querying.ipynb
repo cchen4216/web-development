{
 "cells": [
  {
   "cell_type": "markdown",
   "metadata": {},
   "source": [
    "SQLite 是一种嵌入式数据库，它的数据库是一个文件。使用 Python 操作 SQLite 数据库的基本流程如下：\n",
    "\n",
    "- 通过 `sqlite3.open()` 创建于数据路的连接对象 connectoin;\n",
    "- 通过 `connection.cursor()` 创建光标对象 cursor;\n",
    "- 通过 `cursor.execute()` 执行 SQL 语句；\n",
    "- 通过 `connection.commit()` 提交当前的事务，或者通过 `cursor.fetchall()` 获得查询结果；\n",
    "- 通过 `connection.close()` 关闭于数据库文件的连接。"
   ]
  },
  {
   "cell_type": "code",
   "execution_count": 2,
   "metadata": {},
   "outputs": [],
   "source": [
    "import sqlite3\n",
    "\n",
    "conn = sqlite3.connect(\"test.db\")\n",
    "c = conn.cursor()\n",
    "\n",
    "c.execute(\"CREATE TABLE IF NOT EXISTS students (sid INTEGER PRIMARY KEY, name TEXT)\")\n",
    "conn.commit()\n",
    "\n",
    "conn.close()"
   ]
  },
  {
   "cell_type": "markdown",
   "metadata": {},
   "source": [
    "这里在当前工作目录下创建了一个数据库文件 `test.db`，另外还可以使用`\":memory:\"` 建立内存数据库。\n",
    "\n",
    "> 内存数据库是一种将全部内容存放在内存中，而非传统数据库那样存放在外部存储器中的数据库。这种数据库的读写性能很高，主要用于在对性能要求极高的环境中，但是在服务器关闭后会立刻丢失全部存储的数据。"
   ]
  },
  {
   "cell_type": "code",
   "execution_count": 4,
   "metadata": {},
   "outputs": [
    {
     "name": "stdout",
     "output_type": "stream",
     "text": [
      "[(2, 'Bob'), (3, 'Mark')]\n"
     ]
    }
   ],
   "source": [
    "import sqlite3\n",
    "\n",
    "conn = sqlite3.connect(\":memory:\")\n",
    "c = conn.cursor()\n",
    "c.execute(\"CREATE TABLE students (sid INTEGER PRIMARY KEY, name TEXT)\")\n",
    "conn.commit()\n",
    "\n",
    "c.execute(\"INSERT INTO students VALUES(?, ?)\", (1, \"Alice\"))\n",
    "c.execute(\"INSERT INTO students VALUES(?, ?)\", (2, \"Bob\"))\n",
    "c.execute(\"INSERT INTO students VALUES(?, ?)\", (3, \"Peter\"))\n",
    "\n",
    "c.execute(\"DELETE FROM students WHERE sid = ?\", (1,))\n",
    "c.execute(\"UPDATE students SET name = ? WHERE sid = ?\", (\"Mark\", 3))\n",
    "\n",
    "conn.commit()\n",
    "\n",
    "c.execute(\"SELECT * FROM students\")\n",
    "print(c.fetchall())\n",
    "\n",
    "conn.close()"
   ]
  },
  {
   "cell_type": "markdown",
   "metadata": {},
   "source": [
    "`fetchall` 返回满足所有要求的 records 列表。\n",
    "\n",
    "## 封装成 Python 函数"
   ]
  },
  {
   "cell_type": "code",
   "execution_count": 5,
   "metadata": {},
   "outputs": [
    {
     "name": "stdout",
     "output_type": "stream",
     "text": [
      "Insert 3 records.\n",
      "[(1, 'Alice'), (2, 'Bob'), (3, 'Peter')]\n",
      "Delete the record where sid = 1.\n",
      "[(2, 'Bob'), (3, 'Peter')]\n",
      "Update the record where sid = 3.\n",
      "[(2, 'Bob'), (3, 'Mark')]\n"
     ]
    }
   ],
   "source": [
    "import sqlite3\n",
    "import os, sys\n",
    "\n",
    "def initialize(conn):\n",
    "    c = conn.cursor()\n",
    "    c.execute(\"CREATE TABLE students (sid INTEGER PRIMARY KEY, name TEXT)\")\n",
    "    conn.commit()\n",
    "\n",
    "def insert(conn, sid, name):\n",
    "    c = conn.cursor()\n",
    "    t = (sid, name)\n",
    "    c.execute(\"INSERT INTO students VALUES (?, ?)\", t)\n",
    "    conn.commit()\n",
    "    \n",
    "def delete(conn, sid):\n",
    "    c = conn.cursor()\n",
    "    t = (sid, )\n",
    "    c.execute(\"DELETE FROM students WHERE sid = ?\", t)\n",
    "    conn.commit()\n",
    "    \n",
    "def update(conn, sid, name):\n",
    "    c = conn.cursor()\n",
    "    t = (name, sid)\n",
    "    c.execute(\"UPDATE students SET name = ? WHERE sid = ?\", t)\n",
    "    conn.commit()\n",
    "    \n",
    "def display(conn):\n",
    "    c = conn.cursor()\n",
    "    c.execute(\"SELECT * FROM students\");\n",
    "    print(c.fetchall())\n",
    "    \n",
    "db_name = \":memory:\"\n",
    "conn = sqlite3.connect(db_name)\n",
    "\n",
    "initialize(conn)\n",
    "\n",
    "print(\"Insert 3 records.\")\n",
    "insert(conn, 1, \"Alice\")\n",
    "insert(conn, 2, \"Bob\")\n",
    "insert(conn, 3, \"Peter\")\n",
    "display(conn)\n",
    "\n",
    "print(\"Delete the record where sid = 1.\")\n",
    "delete(conn, 1)\n",
    "display(conn)\n",
    "\n",
    "print(\"Update the record where sid = 3.\")\n",
    "update(conn, 3, \"Mark\")\n",
    "display(conn)\n",
    "\n",
    "conn.close()"
   ]
  },
  {
   "cell_type": "code",
   "execution_count": null,
   "metadata": {},
   "outputs": [],
   "source": []
  }
 ],
 "metadata": {
  "kernelspec": {
   "display_name": "Python 3",
   "language": "python",
   "name": "python3"
  },
  "language_info": {
   "codemirror_mode": {
    "name": "ipython",
    "version": 3
   },
   "file_extension": ".py",
   "mimetype": "text/x-python",
   "name": "python",
   "nbconvert_exporter": "python",
   "pygments_lexer": "ipython3",
   "version": "3.6.4"
  }
 },
 "nbformat": 4,
 "nbformat_minor": 2
}
